{
  "nbformat": 4,
  "nbformat_minor": 0,
  "metadata": {
    "colab": {
      "provenance": []
    },
    "kernelspec": {
      "name": "python3",
      "display_name": "Python 3"
    },
    "language_info": {
      "name": "python"
    }
  },
  "cells": [
    {
      "cell_type": "code",
      "execution_count": null,
      "metadata": {
        "id": "izudcW5rzM7x"
      },
      "outputs": [],
      "source": [
        "import numpy as np\n",
        "from sklearn.model_selection import train_test_split\n",
        "from sklearn.compose import make_column_selector\n",
        "from sklearn.compose import ColumnTransformer\n",
        "from sklearn.preprocessing import LabelEncoder,OneHotEncoder, StandardScaler\n",
        "import xgboost as xgb\n",
        "from sklearn.metrics import accuracy_score\n",
        "from sklearn.ensemble import RandomForestClassifier\n",
        "\n",
        "import opendatasets as od\n",
        "dataset_link=\"https://www.kaggle.com/competitions/playground-series-s4e2\"\n",
        "od.download(dataset_link)\n",
        "import os\n",
        "os.chdir(\"playground-series-s4e2 \")\n",
        "os.listdir()\n",
        "import pandas as pd\n",
        "\n",
        "train_data_file=pd.read_csv('train.csv',index_col = \"id\")\n",
        "test_data_file=pd.read_csv('test.csv',index_col = \"id\")\n",
        "\n",
        "train_data_file.isnull().sum()\n",
        "train_data_file.describe()\n",
        "train_data_file.drop_duplicates(inplace=True , keep=\"first\")\n",
        "\n",
        "\n",
        "\n",
        "preprocess = ColumnTransformer([\n",
        "    (\"onehot\", OneHotEncoder(handle_unknown=\"ignore\"), make_column_selector(dtype_include=object)),\n",
        "    (\"scale\", StandardScaler(), make_column_selector(dtype_include=np.number)),\n",
        "])\n",
        "\n",
        "X_train = train_data_file.drop(\"NObeyesdad\",axis=1)\n",
        "y_train = train_data_file[\"NObeyesdad\"]\n",
        "\n",
        "preprocess.fit(pd.concat([X_train,test_data_file]))\n",
        "X_train = preprocess.transform(X_train)\n",
        "#X_test = preprocess.transform(test_data_file)\n",
        "\n",
        "label_encoder = LabelEncoder()\n",
        "y_train = label_encoder.fit_transform(y_train)\n",
        "\n",
        "X_train1, X_test1, y_train, y_test = train_test_split(X_train, y_train, test_size=0.2, random_state=42)\n",
        "\n",
        "\n",
        "\n",
        "xgb1 = xgb.XGBClassifier(objective='multi:softmax', num_class=7, random_state=42)\n",
        "xgb1.fit(X_train1, y_train)\n",
        "\n",
        "y_pred = xgb1.predict(np.array(X_test1))\n",
        "accuracy = accuracy_score(y_test, y_pred)\n",
        "print(f\"Accuracy on the test set: {accuracy}\")\n",
        "\n",
        "import pickle\n",
        "\n",
        "\n",
        "X_test1_df=pd.DataFrame(X_test1)\n",
        "X_test1_df.to_csv(\"test_data_input.csv\", index=False)\n",
        "\n",
        "y_test_df=pd.DataFrame(y_test)\n",
        "y_test_df.to_csv(\"test_data_target.csv\", index=False)"
      ]
    }
  ]
}