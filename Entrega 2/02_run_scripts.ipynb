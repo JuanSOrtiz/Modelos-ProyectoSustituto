{
  "nbformat": 4,
  "nbformat_minor": 0,
  "metadata": {
    "colab": {
      "provenance": []
    },
    "kernelspec": {
      "name": "python3",
      "display_name": "Python 3"
    },
    "language_info": {
      "name": "python"
    }
  },
  "cells": [
    {
      "cell_type": "code",
      "execution_count": null,
      "metadata": {
        "id": "izudcW5rzM7x"
      },
      "outputs": [],
      "source": [
        "import sys\n",
        "import pandas as pd\n",
        "import numpy as np\n",
        "\n",
        "train_data_file  = 'train.csv'\n",
        "test_data_file   = 'test.csv'\n",
        "test_input_file  = 'test_data_input.csv'\n",
        "test_target_file = 'test_data_target.csv'\n",
        "test_preds_file  = 'test_predictions.csv'\n",
        "model_file       = 'model.pkl'\n",
        "\n",
        "python = sys.executable\n",
        "!$python train.py --model_file $model_file --train_data_file $train_data_file --test_data_file $test_data_file --overwrite_model\n",
        "!$python predict.py --model_file $model_file --input_file $test_input_file  --predictions_file test_predictions.csv\n",
        "\n",
        "preds   = pd.read_csv(test_preds_file).values\n",
        "targets = pd.read_csv(test_target_file).values\n",
        "\n",
        "acc = np.mean(preds==targets)\n",
        "print (f\"accuracy on test {acc:.3f}\")"
      ]
    }
  ]
}